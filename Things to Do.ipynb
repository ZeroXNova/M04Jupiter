{
 "cells": [
  {
   "cell_type": "code",
   "execution_count": 8,
   "id": "b5aa1b80-bd2a-4f99-9dd3-5f9f1b86a717",
   "metadata": {},
   "outputs": [
    {
     "name": "stdout",
     "output_type": "stream",
     "text": [
      "Open 9-5 daily\n"
     ]
    }
   ],
   "source": [
    "#11.1\n",
    "def hours():\n",
    "    print(\"Open 9-5 daily\")\n",
    "\n",
    "hours()"
   ]
  },
  {
   "cell_type": "code",
   "execution_count": 12,
   "id": "64539f6a-9f7e-4562-a683-e13270f3881d",
   "metadata": {},
   "outputs": [
    {
     "name": "stdout",
     "output_type": "stream",
     "text": [
      "Open 9-5 daily\n"
     ]
    }
   ],
   "source": [
    "#11.1\n",
    "import zoo\n",
    "hours()"
   ]
  },
  {
   "cell_type": "code",
   "execution_count": 14,
   "id": "ed89928a-d2dc-452e-9322-6abd846b0d46",
   "metadata": {},
   "outputs": [
    {
     "name": "stdout",
     "output_type": "stream",
     "text": [
      "Open 9-5 daily\n"
     ]
    }
   ],
   "source": [
    "#11.2\n",
    "import zoo as menagerie\n",
    "hours()"
   ]
  },
  {
   "cell_type": "code",
   "execution_count": 1,
   "id": "99f69a47-5ed3-4f2f-877c-815687b696ab",
   "metadata": {},
   "outputs": [],
   "source": [
    "#16.8\n",
    "import sqlite3\n",
    "#I spent some time trying to figure this one out and hoenstly I have run out of time to try and figure it out. I may take a crack at it later, but I can't even figure out\n",
    "#How to access SQlite3\n"
   ]
  },
  {
   "cell_type": "code",
   "execution_count": null,
   "id": "c0887dfe-0304-4cfe-a386-a290213b608b",
   "metadata": {},
   "outputs": [],
   "source": []
  }
 ],
 "metadata": {
  "kernelspec": {
   "display_name": "Python 3 (ipykernel)",
   "language": "python",
   "name": "python3"
  },
  "language_info": {
   "codemirror_mode": {
    "name": "ipython",
    "version": 3
   },
   "file_extension": ".py",
   "mimetype": "text/x-python",
   "name": "python",
   "nbconvert_exporter": "python",
   "pygments_lexer": "ipython3",
   "version": "3.12.4"
  }
 },
 "nbformat": 4,
 "nbformat_minor": 5
}
